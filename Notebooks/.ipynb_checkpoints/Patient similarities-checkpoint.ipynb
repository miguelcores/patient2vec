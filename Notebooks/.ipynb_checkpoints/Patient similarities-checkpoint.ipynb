{
 "cells": [
  {
   "cell_type": "code",
   "execution_count": null,
   "metadata": {
    "ExecuteTime": {
     "start_time": "2020-08-29T19:09:17.285Z"
    }
   },
   "outputs": [],
   "source": [
    "import pickle\n",
    "\n",
    "def load_object(fn):\n",
    "    with open(fn, 'rb') as file:\n",
    "        return pickle.load(file)\n",
    "\n",
    "# fn = '../_data/patient_similarities/patient_similarities.pkl'\n",
    "fn = '../_data/patient_similarities/patient_similarities.pkl'\n",
    "\n",
    "patient_similarities = load_object(fn)\n",
    "patient_similarities"
   ]
  },
  {
   "cell_type": "code",
   "execution_count": 17,
   "metadata": {
    "ExecuteTime": {
     "end_time": "2020-08-29T17:19:24.469255Z",
     "start_time": "2020-08-29T17:19:24.463536Z"
    }
   },
   "outputs": [],
   "source": [
    "# def get_sims():\n",
    "    \n",
    "fl = '../_data/patients/decipher_patients_disease.pkl'\n",
    "\n",
    "patients_disease = load_object(fl)\n",
    "\n",
    "y = []\n",
    "cos_sim = []\n",
    "\n",
    "for patient in patient_similarities:\n",
    "    for sim in patient_similarities[patient]:\n",
    "        if sim =='cos_sim':\n",
    "            for patient_compared in patient_similarities[patient][sim]:\n",
    "                cos_sim.append(patient_similarities[patient][sim][patient_compared])\n",
    "                if patien\n",
    "#             patients_disease\n",
    "    "
   ]
  },
  {
   "cell_type": "code",
   "execution_count": 18,
   "metadata": {
    "ExecuteTime": {
     "end_time": "2020-08-29T17:19:26.236990Z",
     "start_time": "2020-08-29T17:19:26.231030Z"
    }
   },
   "outputs": [
    {
     "data": {
      "text/plain": [
       "[0.9841121,\n",
       " 0.97573054,\n",
       " 0.8764717,\n",
       " 0.858024,\n",
       " 0.87098366,\n",
       " 0.9841121,\n",
       " 0.9924404,\n",
       " 0.88907766,\n",
       " 0.8793732,\n",
       " 0.85949564,\n",
       " 0.97573054,\n",
       " 0.9924404,\n",
       " 0.87744445,\n",
       " 0.8942293,\n",
       " 0.85124445,\n",
       " 0.8764717,\n",
       " 0.88907766,\n",
       " 0.87744445,\n",
       " 0.95662034,\n",
       " 0.96392,\n",
       " 0.858024,\n",
       " 0.8793732,\n",
       " 0.8942293,\n",
       " 0.95662034,\n",
       " 0.9492197,\n",
       " 0.87098366,\n",
       " 0.85949564,\n",
       " 0.85124445,\n",
       " 0.96392,\n",
       " 0.9492197]"
      ]
     },
     "execution_count": 18,
     "metadata": {},
     "output_type": "execute_result"
    }
   ],
   "source": [
    "cos_sim"
   ]
  },
  {
   "cell_type": "code",
   "execution_count": 8,
   "metadata": {
    "ExecuteTime": {
     "end_time": "2020-08-29T16:43:27.958900Z",
     "start_time": "2020-08-29T16:43:27.952685Z"
    }
   },
   "outputs": [
    {
     "data": {
      "text/plain": [
       "[0.18, 0.17]"
      ]
     },
     "execution_count": 8,
     "metadata": {},
     "output_type": "execute_result"
    }
   ],
   "source": [
    "y = []\n",
    "y.append(.18)\n",
    "y.append(.17)\n",
    "y"
   ]
  },
  {
   "cell_type": "code",
   "execution_count": null,
   "metadata": {},
   "outputs": [],
   "source": [
    "fpr, tpr, thresholds = metrics.roc_curve(y, scores)\n",
    "roc_auc_score(y_true, y_scores)"
   ]
  },
  {
   "cell_type": "code",
   "execution_count": null,
   "metadata": {},
   "outputs": [],
   "source": [
    "plt.figure()\n",
    "lw = 2\n",
    "plt.plot(fpr, tpr, color='darkorange',\n",
    "         lw=lw, label='ROC curve (area = %0.2f)' % roc_auc_score)\n",
    "plt.plot([0, 1], [0, 1], color='navy', lw=lw, linestyle='--')\n",
    "plt.xlim([0.0, 1.0])\n",
    "plt.ylim([0.0, 1.05])\n",
    "plt.xlabel('False Positive Rate')\n",
    "plt.ylabel('True Positive Rate')\n",
    "plt.title('Receiver operating characteristic example')\n",
    "plt.legend(loc=\"lower right\")\n",
    "plt.show()"
   ]
  }
 ],
 "metadata": {
  "kernelspec": {
   "display_name": "Python 3",
   "language": "python",
   "name": "python3"
  },
  "language_info": {
   "codemirror_mode": {
    "name": "ipython",
    "version": 3
   },
   "file_extension": ".py",
   "mimetype": "text/x-python",
   "name": "python",
   "nbconvert_exporter": "python",
   "pygments_lexer": "ipython3",
   "version": "3.7.3"
  },
  "toc": {
   "base_numbering": 1,
   "nav_menu": {},
   "number_sections": true,
   "sideBar": true,
   "skip_h1_title": false,
   "title_cell": "Table of Contents",
   "title_sidebar": "Contents",
   "toc_cell": false,
   "toc_position": {},
   "toc_section_display": true,
   "toc_window_display": false
  }
 },
 "nbformat": 4,
 "nbformat_minor": 2
}
