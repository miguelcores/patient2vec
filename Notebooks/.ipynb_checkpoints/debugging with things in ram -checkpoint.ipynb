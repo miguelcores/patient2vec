{
 "cells": [
  {
   "cell_type": "code",
   "execution_count": 14,
   "metadata": {
    "ExecuteTime": {
     "end_time": "2020-08-27T07:25:45.550101Z",
     "start_time": "2020-08-27T07:25:45.545106Z"
    }
   },
   "outputs": [],
   "source": [
    "import pickle\n",
    "\n",
    "def load_object(fn):\n",
    "    with open(fn, 'rb') as file:\n",
    "        return pickle.load(file)"
   ]
  },
  {
   "cell_type": "code",
   "execution_count": 59,
   "metadata": {
    "ExecuteTime": {
     "end_time": "2020-08-28T15:29:40.574620Z",
     "start_time": "2020-08-28T15:29:40.533619Z"
    },
    "scrolled": false
   },
   "outputs": [
    {
     "name": "stdout",
     "output_type": "stream",
     "text": [
      "decipher\n",
      "decipher_desc\n",
      "orpha\n",
      "orpha_desc\n",
      "omim\n",
      "omim_desc\n"
     ]
    }
   ],
   "source": [
    "annotations_cache = load_object('../_data/annotations_cache.pkl')\n",
    "for i in annotations_cache:\n",
    "    print(i)"
   ]
  },
  {
   "cell_type": "markdown",
   "metadata": {},
   "source": [
    "## Generate hpo2int.csv"
   ]
  },
  {
   "cell_type": "code",
   "execution_count": 54,
   "metadata": {
    "ExecuteTime": {
     "end_time": "2020-08-28T15:24:41.853656Z",
     "start_time": "2020-08-28T15:24:21.446655Z"
    }
   },
   "outputs": [],
   "source": [
    "import pandas as pd\n",
    "\n",
    "def save_object(obj, fn):\n",
    "    with open(fn, 'wb') as file:\n",
    "        pickle.dump(obj, file)\n",
    "\n",
    "data = pd.read_csv('../_data/hpo2int.csv')\n",
    "\n",
    "translator = {}\n",
    "translator['name2id'] = {}\n",
    "translator['id2name'] = {}\n",
    "translator['id2desc'] = {}\n",
    "\n",
    "for i in data.Id:\n",
    "    name = data[data.Id==i].Name.values[0]\n",
    "    desc = data[data.Id==i].desc.values[0]\n",
    "    translator['name2id'][name] = i\n",
    "    translator['id2name'][i] = name\n",
    "    translator['id2desc'][i] = desc\n",
    "\n",
    "save_object(translator, '../_data/hp-obo-translator.pkl')"
   ]
  },
  {
   "cell_type": "code",
   "execution_count": null,
   "metadata": {},
   "outputs": [],
   "source": []
  },
  {
   "cell_type": "code",
   "execution_count": null,
   "metadata": {},
   "outputs": [],
   "source": []
  }
 ],
 "metadata": {
  "kernelspec": {
   "display_name": "Python 3",
   "language": "python",
   "name": "python3"
  },
  "language_info": {
   "codemirror_mode": {
    "name": "ipython",
    "version": 3
   },
   "file_extension": ".py",
   "mimetype": "text/x-python",
   "name": "python",
   "nbconvert_exporter": "python",
   "pygments_lexer": "ipython3",
   "version": "3.7.3"
  },
  "toc": {
   "base_numbering": 1,
   "nav_menu": {},
   "number_sections": true,
   "sideBar": true,
   "skip_h1_title": false,
   "title_cell": "Table of Contents",
   "title_sidebar": "Contents",
   "toc_cell": false,
   "toc_position": {},
   "toc_section_display": true,
   "toc_window_display": false
  }
 },
 "nbformat": 4,
 "nbformat_minor": 2
}
