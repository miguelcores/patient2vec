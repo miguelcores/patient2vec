{
 "cells": [
  {
   "cell_type": "code",
   "execution_count": null,
   "metadata": {},
   "outputs": [],
   "source": []
  },
  {
   "cell_type": "markdown",
   "metadata": {},
   "source": [
    "#### HPO/phenotype_annotation.tab"
   ]
  },
  {
   "cell_type": "code",
   "execution_count": 1,
   "metadata": {
    "ExecuteTime": {
     "end_time": "2020-09-03T09:41:36.839782Z",
     "start_time": "2020-09-03T09:41:36.792779Z"
    },
    "scrolled": true
   },
   "outputs": [
    {
     "data": {
      "text/plain": [
       "'C:/Users/micores/Google Drive/tfg/Monarch/HPO/phenotype_annotation.tab'"
      ]
     },
     "execution_count": 1,
     "metadata": {},
     "output_type": "execute_result"
    }
   ],
   "source": [
    "o = r\"C:\\Users\\micores\\Google Drive\\tfg\\Monarch\\HPO\\phenotype_annotation.tab\"\n",
    "o.replace(\"\\\\\",\"/\")"
   ]
  },
  {
   "cell_type": "code",
   "execution_count": 2,
   "metadata": {
    "ExecuteTime": {
     "end_time": "2020-09-03T09:41:44.154777Z",
     "start_time": "2020-09-03T09:41:38.773780Z"
    }
   },
   "outputs": [],
   "source": [
    "import pandas as pd\n",
    "\n",
    "df = pd.read_csv(o, sep='\\t', low_memory=False)\n",
    "# df.to_csv('C:/Users/micores/Google Drive/tfg/Monarch/HPO/phenotype_annotation.csv', index=False)"
   ]
  },
  {
   "cell_type": "markdown",
   "metadata": {},
   "source": [
    "##### Exploratory analysis"
   ]
  },
  {
   "cell_type": "code",
   "execution_count": 25,
   "metadata": {
    "ExecuteTime": {
     "end_time": "2020-08-16T17:55:32.365648Z",
     "start_time": "2020-08-16T17:55:32.351642Z"
    }
   },
   "outputs": [
    {
     "data": {
      "text/plain": [
       "Index(['#disease-db', 'disease-identifier', 'disease-name', 'negation',\n",
       "       'HPO-ID', 'reference', 'evidence-code', 'onset', 'frequencyHPO',\n",
       "       'modifier', 'sub-ontology', 'alt-names', 'curators', 'frequencyRaw',\n",
       "       'sex'],\n",
       "      dtype='object')"
      ]
     },
     "execution_count": 25,
     "metadata": {},
     "output_type": "execute_result"
    }
   ],
   "source": [
    "df.columns"
   ]
  },
  {
   "cell_type": "code",
   "execution_count": 23,
   "metadata": {
    "ExecuteTime": {
     "end_time": "2020-08-16T17:55:08.798811Z",
     "start_time": "2020-08-16T17:55:08.753849Z"
    }
   },
   "outputs": [
    {
     "data": {
      "text/plain": [
       "11897"
      ]
     },
     "execution_count": 23,
     "metadata": {},
     "output_type": "execute_result"
    }
   ],
   "source": [
    "df['disease-identifier'].nunique()"
   ]
  },
  {
   "cell_type": "code",
   "execution_count": 26,
   "metadata": {
    "ExecuteTime": {
     "end_time": "2020-08-16T17:55:45.025537Z",
     "start_time": "2020-08-16T17:55:44.972531Z"
    }
   },
   "outputs": [
    {
     "data": {
      "text/plain": [
       "11885"
      ]
     },
     "execution_count": 26,
     "metadata": {},
     "output_type": "execute_result"
    }
   ],
   "source": [
    "df['disease-name'].nunique()"
   ]
  },
  {
   "cell_type": "code",
   "execution_count": 47,
   "metadata": {
    "ExecuteTime": {
     "end_time": "2020-08-17T09:01:02.310508Z",
     "start_time": "2020-08-17T09:01:02.250503Z"
    }
   },
   "outputs": [
    {
     "data": {
      "text/plain": [
       "7975"
      ]
     },
     "execution_count": 47,
     "metadata": {},
     "output_type": "execute_result"
    }
   ],
   "source": [
    "df[df['frequencyHPO'].isnull()]['disease-name'].nunique()"
   ]
  },
  {
   "cell_type": "code",
   "execution_count": 48,
   "metadata": {
    "ExecuteTime": {
     "end_time": "2020-08-17T09:01:36.347033Z",
     "start_time": "2020-08-17T09:01:36.277030Z"
    }
   },
   "outputs": [
    {
     "data": {
      "text/plain": [
       "6462"
      ]
     },
     "execution_count": 48,
     "metadata": {},
     "output_type": "execute_result"
    }
   ],
   "source": [
    "df[df['frequencyHPO'].notnull()]['disease-name'].nunique()"
   ]
  },
  {
   "cell_type": "code",
   "execution_count": 50,
   "metadata": {
    "ExecuteTime": {
     "end_time": "2020-08-17T09:02:26.985201Z",
     "start_time": "2020-08-17T09:02:26.978201Z"
    }
   },
   "outputs": [
    {
     "data": {
      "text/plain": [
       "2552"
      ]
     },
     "execution_count": 50,
     "metadata": {},
     "output_type": "execute_result"
    }
   ],
   "source": [
    "7975+6462-11885"
   ]
  },
  {
   "cell_type": "code",
   "execution_count": 45,
   "metadata": {
    "ExecuteTime": {
     "end_time": "2020-08-17T08:59:15.044371Z",
     "start_time": "2020-08-17T08:59:15.036369Z"
    }
   },
   "outputs": [
    {
     "data": {
      "text/plain": [
       "195195"
      ]
     },
     "execution_count": 45,
     "metadata": {},
     "output_type": "execute_result"
    }
   ],
   "source": [
    "102824+92371"
   ]
  },
  {
   "cell_type": "code",
   "execution_count": 51,
   "metadata": {
    "ExecuteTime": {
     "end_time": "2020-08-17T09:46:28.917451Z",
     "start_time": "2020-08-17T09:46:28.866447Z"
    }
   },
   "outputs": [
    {
     "data": {
      "text/plain": [
       "89.5"
      ]
     },
     "execution_count": 51,
     "metadata": {},
     "output_type": "execute_result"
    }
   ],
   "source": [
    "(99+80)/2"
   ]
  },
  {
   "cell_type": "code",
   "execution_count": 5,
   "metadata": {
    "ExecuteTime": {
     "end_time": "2020-08-18T09:24:33.702095Z",
     "start_time": "2020-08-18T09:24:33.624096Z"
    }
   },
   "outputs": [
    {
     "data": {
      "text/plain": [
       "3956"
      ]
     },
     "execution_count": 5,
     "metadata": {},
     "output_type": "execute_result"
    }
   ],
   "source": [
    "df[df['#disease-db']=='ORPHA']['disease-name'].nunique()"
   ]
  },
  {
   "cell_type": "code",
   "execution_count": 6,
   "metadata": {
    "ExecuteTime": {
     "end_time": "2020-08-18T09:28:20.274112Z",
     "start_time": "2020-08-18T09:28:20.224107Z"
    }
   },
   "outputs": [
    {
     "data": {
      "text/plain": [
       "3956"
      ]
     },
     "execution_count": 6,
     "metadata": {},
     "output_type": "execute_result"
    }
   ],
   "source": [
    "df[df['#disease-db']=='ORPHA']['disease-identifier'].nunique()"
   ]
  },
  {
   "cell_type": "code",
   "execution_count": 11,
   "metadata": {
    "ExecuteTime": {
     "end_time": "2020-09-03T09:47:30.508673Z",
     "start_time": "2020-09-03T09:47:30.446674Z"
    }
   },
   "outputs": [
    {
     "data": {
      "text/plain": [
       "3956"
      ]
     },
     "execution_count": 11,
     "metadata": {},
     "output_type": "execute_result"
    }
   ],
   "source": [
    "df[df['#disease-db']=='ORPHA']['reference'].nunique()"
   ]
  },
  {
   "cell_type": "code",
   "execution_count": 17,
   "metadata": {
    "ExecuteTime": {
     "end_time": "2020-09-03T13:41:53.539211Z",
     "start_time": "2020-09-03T13:41:53.492208Z"
    }
   },
   "outputs": [
    {
     "data": {
      "text/plain": [
       "60"
      ]
     },
     "execution_count": 17,
     "metadata": {},
     "output_type": "execute_result"
    }
   ],
   "source": [
    "df[df['#disease-db']=='DECIPHER']['reference'].nunique()"
   ]
  },
  {
   "cell_type": "code",
   "execution_count": 16,
   "metadata": {
    "ExecuteTime": {
     "end_time": "2020-09-03T11:29:04.957513Z",
     "start_time": "2020-09-03T11:29:04.942511Z"
    }
   },
   "outputs": [
    {
     "data": {
      "text/plain": [
       "31299872.0"
      ]
     },
     "execution_count": 16,
     "metadata": {},
     "output_type": "execute_result"
    }
   ],
   "source": [
    "n = 3956*2\n",
    "m = n*n/2\n",
    "m"
   ]
  },
  {
   "cell_type": "code",
   "execution_count": 8,
   "metadata": {
    "ExecuteTime": {
     "end_time": "2020-09-03T09:46:56.673718Z",
     "start_time": "2020-09-03T09:46:56.612720Z"
    }
   },
   "outputs": [
    {
     "data": {
      "text/plain": [
       "9465"
      ]
     },
     "execution_count": 8,
     "metadata": {},
     "output_type": "execute_result"
    }
   ],
   "source": [
    "df[df['#disease-db']=='OMIM']['reference'].nunique()"
   ]
  },
  {
   "cell_type": "code",
   "execution_count": 15,
   "metadata": {
    "ExecuteTime": {
     "end_time": "2020-09-03T09:48:21.828672Z",
     "start_time": "2020-09-03T09:48:21.780679Z"
    }
   },
   "outputs": [
    {
     "data": {
      "text/plain": [
       "7938"
      ]
     },
     "execution_count": 15,
     "metadata": {},
     "output_type": "execute_result"
    }
   ],
   "source": [
    "df[df['#disease-db']=='OMIM']['disease-identifier'].nunique()"
   ]
  },
  {
   "cell_type": "code",
   "execution_count": 10,
   "metadata": {
    "ExecuteTime": {
     "end_time": "2020-09-03T09:47:14.178675Z",
     "start_time": "2020-09-03T09:47:14.172677Z"
    }
   },
   "outputs": [
    {
     "data": {
      "text/plain": [
       "403138012.5"
      ]
     },
     "execution_count": 10,
     "metadata": {},
     "output_type": "execute_result"
    }
   ],
   "source": [
    "n=9465*3\n",
    "m = n*n/2\n",
    "m"
   ]
  },
  {
   "cell_type": "markdown",
   "metadata": {},
   "source": [
    "#### HPO/phenotype_annotation_negated.tab"
   ]
  },
  {
   "cell_type": "code",
   "execution_count": 13,
   "metadata": {
    "ExecuteTime": {
     "end_time": "2020-08-13T11:36:41.319093Z",
     "start_time": "2020-08-13T11:36:41.308096Z"
    },
    "scrolled": true
   },
   "outputs": [
    {
     "data": {
      "text/plain": [
       "'C:/Users/micores/Google Drive/tfg/Monarch/HPO/phenotype_annotation_negated.tab'"
      ]
     },
     "execution_count": 13,
     "metadata": {},
     "output_type": "execute_result"
    }
   ],
   "source": [
    "o = r\"C:\\Users\\micores\\Google Drive\\tfg\\Monarch\\HPO\\phenotype_annotation_negated.tab\"\n",
    "o.replace(\"\\\\\",\"/\")"
   ]
  },
  {
   "cell_type": "code",
   "execution_count": 14,
   "metadata": {
    "ExecuteTime": {
     "end_time": "2020-08-13T11:37:15.752095Z",
     "start_time": "2020-08-13T11:37:15.667096Z"
    }
   },
   "outputs": [],
   "source": [
    "import pandas as pd\n",
    "\n",
    "df = pd.read_csv(o, sep='\\t', low_memory=False)\n",
    "df.to_csv('C:/Users/micores/Google Drive/tfg/Monarch/HPO/phenotype_annotation_negated.csv', \n",
    "          index=False)"
   ]
  },
  {
   "cell_type": "markdown",
   "metadata": {},
   "source": [
    "#### HPO/phenotype.hpoa"
   ]
  },
  {
   "cell_type": "code",
   "execution_count": 7,
   "metadata": {
    "ExecuteTime": {
     "end_time": "2020-08-26T11:18:01.378034Z",
     "start_time": "2020-08-26T11:18:01.289034Z"
    },
    "scrolled": true
   },
   "outputs": [
    {
     "data": {
      "text/plain": [
       "'C:/Users/micores/Google Drive/tfg/Monarch/HPO/phenotype.hpoa'"
      ]
     },
     "execution_count": 7,
     "metadata": {},
     "output_type": "execute_result"
    }
   ],
   "source": [
    "o = r\"C:\\Users\\micores\\Google Drive\\tfg\\Monarch\\HPO\\phenotype.hpoa\"\n",
    "o.replace(\"\\\\\",\"/\")"
   ]
  },
  {
   "cell_type": "code",
   "execution_count": 8,
   "metadata": {
    "ExecuteTime": {
     "end_time": "2020-08-26T11:18:10.958864Z",
     "start_time": "2020-08-26T11:18:09.114869Z"
    }
   },
   "outputs": [],
   "source": [
    "import pandas as pd\n",
    "\n",
    "df = pd.read_csv(o, sep='\\t', low_memory=False, skiprows=4)\n",
    "df.to_csv('C:/Users/micores/Google Drive/tfg/Monarch/HPO/phenotype.csv', index=False)"
   ]
  },
  {
   "cell_type": "code",
   "execution_count": null,
   "metadata": {},
   "outputs": [],
   "source": []
  },
  {
   "cell_type": "markdown",
   "metadata": {},
   "source": [
    "#### disease_phenotype.all"
   ]
  },
  {
   "cell_type": "code",
   "execution_count": 16,
   "metadata": {
    "ExecuteTime": {
     "end_time": "2020-08-14T12:03:17.225276Z",
     "start_time": "2020-08-14T12:03:17.161273Z"
    },
    "scrolled": true
   },
   "outputs": [
    {
     "data": {
      "text/plain": [
       "'C:/Users/micores/Google Drive/tfg/Monarch/disease_phenotype.all.tsv'"
      ]
     },
     "execution_count": 16,
     "metadata": {},
     "output_type": "execute_result"
    }
   ],
   "source": [
    "o = r\"C:\\Users\\micores\\Google Drive\\tfg\\Monarch\\disease_phenotype.all.tsv\"\n",
    "o.replace(\"\\\\\",\"/\")"
   ]
  },
  {
   "cell_type": "code",
   "execution_count": 19,
   "metadata": {
    "ExecuteTime": {
     "end_time": "2020-08-14T12:04:32.215625Z",
     "start_time": "2020-08-14T12:04:26.473617Z"
    }
   },
   "outputs": [],
   "source": [
    "import pandas as pd\n",
    "\n",
    "df = pd.read_csv(o, sep='\\t', low_memory=False)\n",
    "df.to_csv('C:/Users/micores/Google Drive/tfg/Monarch/disease_phenotype.csv', index=False)"
   ]
  }
 ],
 "metadata": {
  "kernelspec": {
   "display_name": "Python 3",
   "language": "python",
   "name": "python3"
  },
  "language_info": {
   "codemirror_mode": {
    "name": "ipython",
    "version": 3
   },
   "file_extension": ".py",
   "mimetype": "text/x-python",
   "name": "python",
   "nbconvert_exporter": "python",
   "pygments_lexer": "ipython3",
   "version": "3.7.3"
  },
  "toc": {
   "base_numbering": 1,
   "nav_menu": {},
   "number_sections": true,
   "sideBar": true,
   "skip_h1_title": false,
   "title_cell": "Table of Contents",
   "title_sidebar": "Contents",
   "toc_cell": false,
   "toc_position": {},
   "toc_section_display": true,
   "toc_window_display": false
  }
 },
 "nbformat": 4,
 "nbformat_minor": 2
}
