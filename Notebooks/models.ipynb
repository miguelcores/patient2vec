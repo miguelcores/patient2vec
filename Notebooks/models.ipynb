{
 "cells": [
  {
   "cell_type": "markdown",
   "metadata": {},
   "source": [
    "## Logistic regression"
   ]
  },
  {
   "cell_type": "code",
   "execution_count": 108,
   "metadata": {
    "ExecuteTime": {
     "end_time": "2020-08-27T17:40:37.433029Z",
     "start_time": "2020-08-27T17:40:37.427063Z"
    }
   },
   "outputs": [],
   "source": [
    "import pandas as pd \n",
    "\n",
    "import pickle\n",
    "\n",
    "fn = '../_data/pruebaEmb.pkl'\n",
    "\n",
    "def load_object(fn):\n",
    "    with open(fn, 'rb') as file:\n",
    "        return pickle.load(file)\n",
    "\n",
    "# patient_embeddings_sum = pd.read_csv(fn, low_memory=False)\n",
    "patient_embeddings_sum = load_object(fn)"
   ]
  },
  {
   "cell_type": "code",
   "execution_count": 113,
   "metadata": {
    "ExecuteTime": {
     "end_time": "2020-08-27T18:35:22.448404Z",
     "start_time": "2020-08-27T18:35:22.435407Z"
    }
   },
   "outputs": [
    {
     "data": {
      "text/plain": [
       "{'disease-identifier': '1',\n",
       " 'disease-name': 'Wolf-Hirschhorn Syndrome',\n",
       " 'patient_embedding': array([-0.75437677, -0.23657551,  0.27706763,  0.17117114,  0.18708089,\n",
       "         0.42756733,  0.6443995 ,  0.03121372, -0.01712037,  0.01718064,\n",
       "         0.11851387, -0.03599605,  0.4074653 , -0.02084357,  0.24451637,\n",
       "        -0.1900013 ,  0.37139064, -0.3258624 ,  0.21269867,  0.39577186,\n",
       "        -0.00478   , -0.03366349, -0.15178025,  0.08471818, -0.24287884,\n",
       "         0.3333383 , -0.05366846,  0.14057656, -0.33877847,  0.39814585,\n",
       "        -0.17495707, -0.19629046,  0.02240356,  0.3416584 , -0.40181264,\n",
       "        -0.27161005, -0.09294141, -0.33857226,  0.0931285 ,  0.35134238,\n",
       "         0.1101412 , -0.3187755 , -0.4260367 ,  0.3700223 ,  0.49095502,\n",
       "        -0.28332826, -0.20197758, -0.17516617, -0.16281876,  0.16502774,\n",
       "        -0.08110806,  0.41588736, -0.35350147,  0.4910705 , -0.31088358,\n",
       "        -0.13704103, -0.08008645, -0.059557  , -0.10381229,  0.47413015,\n",
       "        -0.05930047,  0.1741353 , -0.14948371, -0.18188435,  0.20419772,\n",
       "        -0.2881862 , -0.41124898, -0.47574526, -0.2732289 ,  0.2447557 ,\n",
       "         0.13849051, -0.21588485, -0.00487166,  0.13689537,  0.17549148,\n",
       "         0.00502154,  0.12218766,  0.76296425,  0.40792054,  0.29789716,\n",
       "        -0.37618965,  0.15821537, -0.18551484, -0.21771893,  0.40546948,\n",
       "         0.15126488, -0.11337537, -0.10764517,  0.39303422, -0.50942993,\n",
       "         0.15012646,  0.01265641,  0.11316375,  0.16341993, -0.02692246,\n",
       "        -0.06398157, -0.10058729, -0.22677967,  0.11645439, -0.04687228,\n",
       "        -0.03083157, -0.9029542 , -0.07158424,  0.5562381 , -0.38659498,\n",
       "         0.1794509 , -0.12136163, -0.4129672 , -0.01771909, -0.06540116,\n",
       "         0.22955608, -0.38749444, -0.17824952,  0.5268413 ,  0.1112027 ,\n",
       "         0.28812224,  0.25866202, -0.00648393, -0.20262213, -0.291117  ,\n",
       "         0.5305955 ,  0.01769847,  0.0336551 , -0.17927238, -0.38259268,\n",
       "         0.12487648,  0.03273267, -0.84020835], dtype=float32)}"
      ]
     },
     "execution_count": 113,
     "metadata": {},
     "output_type": "execute_result"
    }
   ],
   "source": [
    "patient_embeddings_sum[1]"
   ]
  },
  {
   "cell_type": "code",
   "execution_count": 126,
   "metadata": {
    "ExecuteTime": {
     "end_time": "2020-08-27T18:45:54.357876Z",
     "start_time": "2020-08-27T18:45:54.349836Z"
    }
   },
   "outputs": [
    {
     "data": {
      "text/plain": [
       "6"
      ]
     },
     "execution_count": 126,
     "metadata": {},
     "output_type": "execute_result"
    }
   ],
   "source": [
    "for i in range(len(patient_embeddings_sum)):\n",
    "    "
   ]
  },
  {
   "cell_type": "code",
   "execution_count": 123,
   "metadata": {
    "ExecuteTime": {
     "end_time": "2020-08-27T18:43:34.418727Z",
     "start_time": "2020-08-27T18:43:34.411730Z"
    }
   },
   "outputs": [
    {
     "data": {
      "text/plain": [
       "True"
      ]
     },
     "execution_count": 123,
     "metadata": {},
     "output_type": "execute_result"
    }
   ],
   "source": [
    "patient_embeddings_sum[0] == patient_embeddings_sum[0]"
   ]
  },
  {
   "cell_type": "code",
   "execution_count": null,
   "metadata": {},
   "outputs": [],
   "source": [
    "from sklearn.model_selection import train_test_split\n",
    "\n",
    "X_train,X_test,y_train,y_test=train_test_split(X_g,y,test_size=0.2)\n",
    "X_train,X_val,y_train,y_val=train_test_split(X_train,y_train,test_size=0.2)"
   ]
  },
  {
   "cell_type": "code",
   "execution_count": null,
   "metadata": {},
   "outputs": [],
   "source": [
    "lreg = LogisticRegression()\n",
    "lreg.fit(X_train,y_train)\n",
    "preds_valid = lreg.predict(X_val)\n",
    "print(classification_report(y_val,preds_valid))"
   ]
  },
  {
   "cell_type": "code",
   "execution_count": null,
   "metadata": {},
   "outputs": [],
   "source": []
  },
  {
   "cell_type": "code",
   "execution_count": null,
   "metadata": {},
   "outputs": [],
   "source": []
  }
 ],
 "metadata": {
  "kernelspec": {
   "display_name": "Python 3",
   "language": "python",
   "name": "python3"
  },
  "language_info": {
   "codemirror_mode": {
    "name": "ipython",
    "version": 3
   },
   "file_extension": ".py",
   "mimetype": "text/x-python",
   "name": "python",
   "nbconvert_exporter": "python",
   "pygments_lexer": "ipython3",
   "version": "3.7.3"
  },
  "toc": {
   "base_numbering": 1,
   "nav_menu": {},
   "number_sections": true,
   "sideBar": true,
   "skip_h1_title": false,
   "title_cell": "Table of Contents",
   "title_sidebar": "Contents",
   "toc_cell": false,
   "toc_position": {},
   "toc_section_display": true,
   "toc_window_display": false
  }
 },
 "nbformat": 4,
 "nbformat_minor": 2
}
